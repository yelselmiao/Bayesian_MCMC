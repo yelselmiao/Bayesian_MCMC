{
 "metadata": {
  "language_info": {
   "codemirror_mode": {
    "name": "ipython",
    "version": 3
   },
   "file_extension": ".py",
   "mimetype": "text/x-python",
   "name": "python",
   "nbconvert_exporter": "python",
   "pygments_lexer": "ipython3",
   "version": "3.9.2-final"
  },
  "orig_nbformat": 2,
  "kernelspec": {
   "name": "python392jvsc74a57bd0514107c679b615ace830db94d12a321ff89811842d7a11ab1d947cfee1cacc84",
   "display_name": "Python 3.9.2 64-bit"
  }
 },
 "nbformat": 4,
 "nbformat_minor": 2,
 "cells": [
  {
   "source": [
    "# Data Preview"
   ],
   "cell_type": "markdown",
   "metadata": {}
  },
  {
   "source": [
    "import datapackage\n",
    "import pandas as pd\n",
    "\n",
    "data_url = 'https://datahub.io/core/s-and-p-500/datapackage.json'\n",
    "\n",
    "# to load Data Package into storage\n",
    "package = datapackage.Package(data_url)\n",
    "\n",
    "# to load only tabular data\n",
    "resources = package.resources\n",
    "for resource in resources:\n",
    "    if resource.tabular:\n",
    "        data = pd.read_csv(resource.descriptor['path'])\n",
    "        print (data)"
   ],
   "cell_type": "code",
   "metadata": {},
   "execution_count": 18,
   "outputs": [
    {
     "output_type": "stream",
     "name": "stdout",
     "text": [
      "            Date    SP500  Dividend  Earnings  Consumer Price Index  \\\n",
      "0     1871-01-01     4.44      0.26      0.40                 12.46   \n",
      "1     1871-02-01     4.50      0.26      0.40                 12.84   \n",
      "2     1871-03-01     4.61      0.26      0.40                 13.03   \n",
      "3     1871-04-01     4.74      0.26      0.40                 12.56   \n",
      "4     1871-05-01     4.86      0.26      0.40                 12.27   \n",
      "...          ...      ...       ...       ...                   ...   \n",
      "1763  2017-12-01  2664.34     48.93    109.88                246.52   \n",
      "1764  2018-01-01  2789.80     49.29       NaN                247.87   \n",
      "1765  2018-02-01  2705.16     49.64       NaN                248.99   \n",
      "1766  2018-03-01  2702.77     50.00       NaN                249.55   \n",
      "1767  2018-04-01  2642.19       NaN       NaN                249.84   \n",
      "\n",
      "      Long Interest Rate  Real Price  Real Dividend  Real Earnings   PE10  \n",
      "0                   5.32       89.00           5.21           8.02    NaN  \n",
      "1                   5.32       87.53           5.06           7.78    NaN  \n",
      "2                   5.33       88.36           4.98           7.67    NaN  \n",
      "3                   5.33       94.29           5.17           7.96    NaN  \n",
      "4                   5.33       98.93           5.29           8.14    NaN  \n",
      "...                  ...         ...            ...            ...    ...  \n",
      "1763                2.40     2700.13          49.59         111.36  32.09  \n",
      "1764                2.58     2811.96          49.68            NaN  33.31  \n",
      "1765                2.86     2714.34          49.81            NaN  32.12  \n",
      "1766                2.84     2705.82          50.06            NaN  31.99  \n",
      "1767                2.80     2642.19            NaN            NaN  31.19  \n",
      "\n",
      "[1768 rows x 10 columns]\n",
      "            Date    SP500  Dividend  Earnings  Consumer Price Index  \\\n",
      "0     1871-01-01     4.44      0.26      0.40                 12.46   \n",
      "1     1871-02-01     4.50      0.26      0.40                 12.84   \n",
      "2     1871-03-01     4.61      0.26      0.40                 13.03   \n",
      "3     1871-04-01     4.74      0.26      0.40                 12.56   \n",
      "4     1871-05-01     4.86      0.26      0.40                 12.27   \n",
      "...          ...      ...       ...       ...                   ...   \n",
      "1763  2017-12-01  2664.34     48.93    109.88                246.52   \n",
      "1764  2018-01-01  2789.80     49.29       NaN                247.87   \n",
      "1765  2018-02-01  2705.16     49.64       NaN                248.99   \n",
      "1766  2018-03-01  2702.77     50.00       NaN                249.55   \n",
      "1767  2018-04-01  2642.19       NaN       NaN                249.84   \n",
      "\n",
      "      Long Interest Rate  Real Price  Real Dividend  Real Earnings   PE10  \n",
      "0                   5.32       89.00           5.21           8.02    NaN  \n",
      "1                   5.32       87.53           5.06           7.78    NaN  \n",
      "2                   5.33       88.36           4.98           7.67    NaN  \n",
      "3                   5.33       94.29           5.17           7.96    NaN  \n",
      "4                   5.33       98.93           5.29           8.14    NaN  \n",
      "...                  ...         ...            ...            ...    ...  \n",
      "1763                2.40     2700.13          49.59         111.36  32.09  \n",
      "1764                2.58     2811.96          49.68            NaN  33.31  \n",
      "1765                2.86     2714.34          49.81            NaN  32.12  \n",
      "1766                2.84     2705.82          50.06            NaN  31.99  \n",
      "1767                2.80     2642.19            NaN            NaN  31.19  \n",
      "\n",
      "[1768 rows x 10 columns]\n"
     ]
    }
   ]
  },
  {
   "cell_type": "code",
   "execution_count": 21,
   "metadata": {},
   "outputs": [],
   "source": [
    "data = pd.DataFrame(data)\n",
    "data.to_csv('sp500.csv', index=False)"
   ]
  }
 ]
}